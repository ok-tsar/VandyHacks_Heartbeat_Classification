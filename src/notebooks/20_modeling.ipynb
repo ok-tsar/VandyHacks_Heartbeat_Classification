{
  "nbformat": 4,
  "nbformat_minor": 0,
  "metadata": {
    "colab": {
      "name": "modeling.ipynb",
      "provenance": [],
      "collapsed_sections": [],
      "authorship_tag": "ABX9TyNJuSq6Kj4b/KD7J99yrDKz",
      "include_colab_link": true
    },
    "kernelspec": {
      "name": "python3",
      "display_name": "Python 3"
    },
    "accelerator": "GPU"
  },
  "cells": [
    {
      "cell_type": "markdown",
      "metadata": {
        "id": "view-in-github",
        "colab_type": "text"
      },
      "source": [
        "<a href=\"https://colab.research.google.com/github/ok-tsar/VandyHacks_Heartbeat_Classification/blob/main/modeling.ipynb\" target=\"_parent\"><img src=\"https://colab.research.google.com/assets/colab-badge.svg\" alt=\"Open In Colab\"/></a>"
      ]
    },
    {
      "cell_type": "code",
      "metadata": {
        "id": "3g3XMS_M71Rz",
        "outputId": "43cd380e-63c3-4798-dd9d-9dbc84e0ff8a",
        "colab": {
          "base_uri": "https://localhost:8080/",
          "height": 34
        }
      },
      "source": [
        "from google.colab import drive\n",
        "drive.mount('/content/gdrive')"
      ],
      "execution_count": 4,
      "outputs": [
        {
          "output_type": "stream",
          "text": [
            "Drive already mounted at /content/gdrive; to attempt to forcibly remount, call drive.mount(\"/content/gdrive\", force_remount=True).\n"
          ],
          "name": "stdout"
        }
      ]
    },
    {
      "cell_type": "code",
      "metadata": {
        "id": "SmA9Qlil7-kr",
        "outputId": "f2b05444-afd3-47e0-c8eb-9c19728d45d8",
        "colab": {
          "base_uri": "https://localhost:8080/",
          "height": 34
        }
      },
      "source": [
        "%cd gdrive/'My Drive'/'VandyHacks'"
      ],
      "execution_count": 5,
      "outputs": [
        {
          "output_type": "stream",
          "text": [
            "/content/gdrive/My Drive/VandyHacks\n"
          ],
          "name": "stdout"
        }
      ]
    },
    {
      "cell_type": "code",
      "metadata": {
        "id": "0LwubRN865K7"
      },
      "source": [
        "# library import\n",
        "import torch\n",
        "from collections import Counter\n",
        "import plotly.express as px\n",
        "from sklearn.model_selection import train_test_split\n",
        "import os\n",
        "from glob import glob\n",
        "from torchvision import transforms\n",
        "from torchvision import datasets\n",
        "from torch.utils.data import DataLoader, sampler\n",
        "from torchvision import models\n",
        "import torch.nn as nn\n",
        "from torch.nn.functional import interpolate\n",
        "from torch import optim, cuda, Tensor\n",
        "import tqdm\n",
        "import numpy as np\n",
        "import pandas as pd\n",
        "pd.options.mode.chained_assignment = None\n",
        "import os\n",
        "from PIL import Image\n",
        "from timeit import default_timer as timer\n",
        "import matplotlib.pyplot as plt\n",
        "plt.rcParams['font.size'] = 14\n",
        "import warnings\n",
        "warnings.filterwarnings('ignore', category=FutureWarning)"
      ],
      "execution_count": 6,
      "outputs": []
    },
    {
      "cell_type": "code",
      "metadata": {
        "id": "k9SpzpRS7PRb"
      },
      "source": [
        "from IPython.core.interactiveshell import InteractiveShell\n",
        "InteractiveShell.ast_node_interactivity = \"all\""
      ],
      "execution_count": 7,
      "outputs": []
    },
    {
      "cell_type": "code",
      "metadata": {
        "id": "KT1508tH7CHu"
      },
      "source": [
        "# define paths\n",
        "traindir_librosa = f\"./data_librosa_png/train\"\n",
        "validdir_librosa = f\"./data_librosa_png/valid\"\n",
        "traindir_chroma = f\"./data_chroma_png/train\"\n",
        "validdir_chroma = f\"./data_chroma_png/valid\"\n",
        "traindir_mfcc = f\"./data_mfcc_png/train\"\n",
        "validdir_mfcc = f\"./data_mfcc_png/valid\"\n",
        "\n",
        "save_file_librosa = f'./trained_models/lib.pt'\n",
        "save_file_chroma = f'./trained_models/chr.pt'\n",
        "save_file_mfcc = f'./trained_models/mfcc.pt'\n",
        "\n",
        "# set batch size\n",
        "batch_size = 20"
      ],
      "execution_count": 8,
      "outputs": []
    },
    {
      "cell_type": "code",
      "metadata": {
        "id": "dOm8UiKN7INn",
        "outputId": "273ec09f-5ba6-48c1-c978-f4ff33213937",
        "colab": {
          "base_uri": "https://localhost:8080/",
          "height": 68
        }
      },
      "source": [
        "# switch to gpu\n",
        "train_on_gpu = cuda.is_available()\n",
        "print(f'Train on gpu: {train_on_gpu}')\n",
        "\n",
        "# Number of gpus\n",
        "if train_on_gpu:\n",
        "    gpu_count = cuda.device_count()\n",
        "    print(f'{gpu_count} gpus detected.')\n",
        "    if gpu_count > 1:\n",
        "        multi_gpu = True\n",
        "    else:\n",
        "        multi_gpu = False\n",
        "else:\n",
        "    multi_gpu = False\n",
        "print(train_on_gpu,multi_gpu)\n",
        "\n"
      ],
      "execution_count": 9,
      "outputs": [
        {
          "output_type": "stream",
          "text": [
            "Train on gpu: True\n",
            "1 gpus detected.\n",
            "True False\n"
          ],
          "name": "stdout"
        }
      ]
    },
    {
      "cell_type": "code",
      "metadata": {
        "id": "4wn4TKjZ7KWY"
      },
      "source": [
        "# check that we can load image\n",
        "#ex_img = Image.open('./data_librosa_png/train/murmur/1.png')\n",
        "#ex_img"
      ],
      "execution_count": 10,
      "outputs": []
    },
    {
      "cell_type": "code",
      "metadata": {
        "id": "kV39SntT-Ork"
      },
      "source": [
        "# define image transformations/normalization\n",
        "image_transforms = {\n",
        "    'train':\n",
        "        transforms.Compose([\n",
        "            transforms.ToTensor(),\n",
        "            transforms.Normalize([0.485, 0.456, 0.406], [0.229, 0.224, 0.225])  \n",
        "        ]),\n",
        "    'valid':\n",
        "        transforms.Compose([\n",
        "            transforms.ToTensor(),\n",
        "            transforms.Normalize([0.485, 0.456, 0.406], [0.229, 0.224, 0.225])\n",
        "        ])\n",
        "}"
      ],
      "execution_count": 11,
      "outputs": []
    },
    {
      "cell_type": "code",
      "metadata": {
        "id": "h6TQlxLp7pzQ",
        "outputId": "b385fa60-3fc2-46fd-857f-4ff3b379e06f",
        "colab": {
          "base_uri": "https://localhost:8080/",
          "height": 51
        }
      },
      "source": [
        "# draw data\n",
        "data = {\n",
        "    'train_librosa':\n",
        "    datasets.ImageFolder(root=traindir_librosa,  transform=image_transforms['train']),\n",
        "    'valid_librosa':\n",
        "    datasets.ImageFolder(root=validdir_librosa, transform=image_transforms['valid']),\n",
        "\n",
        "    'train_chroma':\n",
        "    datasets.ImageFolder(root=traindir_chroma,  transform=image_transforms['train']),\n",
        "    'valid_chroma':\n",
        "    datasets.ImageFolder(root=validdir_chroma, transform=image_transforms['valid']),\n",
        "\n",
        "    'train_mfcc':\n",
        "    datasets.ImageFolder(root=traindir_mfcc,  transform=image_transforms['train']),\n",
        "    'valid_mfcc':\n",
        "    datasets.ImageFolder(root=validdir_mfcc, transform=image_transforms['valid'])\n",
        "}\n",
        "\n",
        "# dataloader iterators with shuffle\n",
        "dataloaders = {\n",
        "    'train_librosa': DataLoader(data['train_librosa'], batch_size=batch_size, shuffle=True,num_workers=0),\n",
        "    'val_librosa': DataLoader(data['valid_librosa'], batch_size=batch_size, shuffle=True,num_workers=0),\n",
        "\n",
        "    'train_chroma': DataLoader(data['train_chroma'], batch_size=batch_size, shuffle=True,num_workers=0),\n",
        "    'val_chroma': DataLoader(data['valid_chroma'], batch_size=batch_size, shuffle=True,num_workers=0),\n",
        "\n",
        "    'train_mfcc': DataLoader(data['train_mfcc'], batch_size=batch_size, shuffle=True,num_workers=0),\n",
        "    'val_mfcc': DataLoader(data['valid_mfcc'], batch_size=batch_size, shuffle=True,num_workers=0)\n",
        "}\n",
        "\n",
        "# iterateing through the dataloader once\n",
        "trainiter = iter(dataloaders['train_librosa'])\n",
        "features, labels = next(trainiter)\n",
        "#features.shape, labels.shape\n",
        "\n",
        "# extracting possible catagories\n",
        "categories = []\n",
        "for d in os.listdir(traindir_librosa):\n",
        "    categories.append(d)\n",
        "\n",
        "n_classes = len(categories)\n",
        "print(f'There are {n_classes} different classes.')\n",
        "print(categories)"
      ],
      "execution_count": 12,
      "outputs": [
        {
          "output_type": "stream",
          "text": [
            "There are 4 different classes.\n",
            "['artifact', 'murmur', 'normal', 'extra']\n"
          ],
          "name": "stdout"
        }
      ]
    },
    {
      "cell_type": "code",
      "metadata": {
        "id": "duQH8GoA7y6U",
        "outputId": "bddbef33-e1b2-456c-cc6b-93036930e1e4",
        "colab": {
          "base_uri": "https://localhost:8080/",
          "height": 425
        }
      },
      "source": [
        "# defining three resnext models (librosa(ie. spectrogram), chroma, and mfcc)\n",
        "model_librosa = models.resnext101_32x8d(pretrained=True)\n",
        "model_chroma = models.resnext101_32x8d(pretrained=True)\n",
        "model_mfcc = models.resnext101_32x8d(pretrained=True)\n",
        "\n",
        "# Freezeing model weights\n",
        "for param in model_librosa.parameters():\n",
        "    param.requires_grad = False\n",
        "#for parameter in model_librosa[-1].parameters():\n",
        "#    parameter.requires_grad = True\n",
        "\n",
        "for param in model_chroma.parameters():\n",
        "    param.requires_grad = False\n",
        "#for parameter in model_chroma[-1].parameters():\n",
        "#    parameter.requires_grad = True\n",
        "\n",
        "for param in model_mfcc.parameters():\n",
        "    param.requires_grad = False\n",
        "#for parameter in model_mfcc[-1].parameters():\n",
        "#    parameter.requires_grad = True\n",
        "\n",
        "\n",
        "# librosa (spectrogram) model\n",
        "n_inputs_librosa = model_librosa.fc.in_features\n",
        "# choosing spectrogram model params\n",
        "model_librosa.fc = nn.Sequential(\n",
        "                      nn.Linear(n_inputs_librosa, 256),\n",
        "                      nn.ELU(),\n",
        "                      nn.Dropout(0.05),\n",
        "                      nn.Linear(256, n_classes),\n",
        "                      nn.LogSoftmax(dim=1))\n",
        "model_librosa.fc\n",
        "\n",
        "total_params_librosa = sum(p.numel() for p in model_librosa.parameters())\n",
        "print(f'{total_params_librosa:,} total parameters.')\n",
        "total_trainable_params_librosa = sum(\n",
        "    p.numel() for p in model_librosa.parameters() if p.requires_grad)\n",
        "print(f'{total_trainable_params_librosa:,} training parameters.')\n",
        "\n",
        "\n",
        "# chroma model\n",
        "n_inputs_chroma = model_chroma.fc.in_features\n",
        "# choosing chroma model params\n",
        "model_chroma.fc = nn.Sequential(\n",
        "                      nn.Linear(n_inputs_chroma, 256),\n",
        "                      nn.ReLU(),\n",
        "                      nn.Dropout(0.25),\n",
        "                      nn.Linear(256, n_classes),\n",
        "                      nn.LogSoftmax(dim=1))\n",
        "model_chroma.fc\n",
        "\n",
        "total_params_chroma = sum(p.numel() for p in model_chroma.parameters())\n",
        "print(f'{total_params_chroma:,} total parameters.')\n",
        "total_trainable_params_chroma = sum(\n",
        "    p.numel() for p in model_chroma.parameters() if p.requires_grad)\n",
        "print(f'{total_trainable_params_chroma:,} training parameters.')\n",
        "\n",
        "\n",
        "# mfcc model\n",
        "n_inputs_mfcc = model_mfcc.fc.in_features\n",
        "# choosing mfcc model params\n",
        "model_mfcc.fc = nn.Sequential(\n",
        "                      nn.Linear(n_inputs_mfcc, 256),\n",
        "                      nn.ELU(),\n",
        "                      nn.Dropout(0.05),\n",
        "                      nn.Linear(256, n_classes),\n",
        "                      nn.LogSoftmax(dim=1))\n",
        "\n",
        "model_mfcc.fc\n",
        "\n",
        "total_params_mfcc = sum(p.numel() for p in model_mfcc.parameters())\n",
        "print(f'{total_params_mfcc:,} total parameters.')\n",
        "total_trainable_params_mfcc = sum(\n",
        "    p.numel() for p in model_mfcc.parameters() if p.requires_grad)\n",
        "print(f'{total_trainable_params_mfcc:,} training parameters.')"
      ],
      "execution_count": 13,
      "outputs": [
        {
          "output_type": "execute_result",
          "data": {
            "text/plain": [
              "Sequential(\n",
              "  (0): Linear(in_features=2048, out_features=256, bias=True)\n",
              "  (1): ELU(alpha=1.0)\n",
              "  (2): Dropout(p=0.05, inplace=False)\n",
              "  (3): Linear(in_features=256, out_features=4, bias=True)\n",
              "  (4): LogSoftmax(dim=1)\n",
              ")"
            ]
          },
          "metadata": {
            "tags": []
          },
          "execution_count": 13
        },
        {
          "output_type": "stream",
          "text": [
            "87,267,908 total parameters.\n",
            "525,572 training parameters.\n"
          ],
          "name": "stdout"
        },
        {
          "output_type": "execute_result",
          "data": {
            "text/plain": [
              "Sequential(\n",
              "  (0): Linear(in_features=2048, out_features=256, bias=True)\n",
              "  (1): ReLU()\n",
              "  (2): Dropout(p=0.25, inplace=False)\n",
              "  (3): Linear(in_features=256, out_features=4, bias=True)\n",
              "  (4): LogSoftmax(dim=1)\n",
              ")"
            ]
          },
          "metadata": {
            "tags": []
          },
          "execution_count": 13
        },
        {
          "output_type": "stream",
          "text": [
            "87,267,908 total parameters.\n",
            "525,572 training parameters.\n"
          ],
          "name": "stdout"
        },
        {
          "output_type": "execute_result",
          "data": {
            "text/plain": [
              "Sequential(\n",
              "  (0): Linear(in_features=2048, out_features=256, bias=True)\n",
              "  (1): ELU(alpha=1.0)\n",
              "  (2): Dropout(p=0.05, inplace=False)\n",
              "  (3): Linear(in_features=256, out_features=4, bias=True)\n",
              "  (4): LogSoftmax(dim=1)\n",
              ")"
            ]
          },
          "metadata": {
            "tags": []
          },
          "execution_count": 13
        },
        {
          "output_type": "stream",
          "text": [
            "87,267,908 total parameters.\n",
            "525,572 training parameters.\n"
          ],
          "name": "stdout"
        }
      ]
    },
    {
      "cell_type": "code",
      "metadata": {
        "id": "BRb8wtZg-hq3"
      },
      "source": [
        "# confirm training on gpu \n",
        "if train_on_gpu:\n",
        "    model_librosa = model_librosa.to('cuda')\n",
        "    model_chroma = model_chroma.to('cuda')\n",
        "    model_mfcc = model_mfcc.to('cuda')"
      ],
      "execution_count": 14,
      "outputs": []
    },
    {
      "cell_type": "code",
      "metadata": {
        "id": "JaYZm9tK-mMI",
        "outputId": "29661d4b-d425-47f1-89ef-87e33efed681",
        "colab": {
          "base_uri": "https://localhost:8080/",
          "height": 221
        }
      },
      "source": [
        "# librosa (spectrogram)\n",
        "model_librosa.class_to_idx = data['train_librosa'].class_to_idx\n",
        "model_librosa.idx_to_class = {\n",
        "    idx: class_\n",
        "    for class_, idx in model_librosa.class_to_idx.items()\n",
        "}\n",
        "\n",
        "list(model_librosa.idx_to_class.items())[:4]\n",
        "\n",
        "criterion_librosa = nn.NLLLoss()\n",
        "optimizer_librosa = optim.Adam(model_librosa.parameters())\n",
        "# for non-frozen weights when we tried not resnext model\n",
        "# optimizer_librosa = optim.Adam(model_librosa.parameters(), lr=1e0)\n",
        "\n",
        "for p in optimizer_librosa.param_groups[0]['params']:\n",
        "    if p.requires_grad:\n",
        "        print(p.shape)\n",
        "\n",
        "\n",
        "# chroma\n",
        "model_chroma.class_to_idx = data['train_chroma'].class_to_idx\n",
        "model_chroma.idx_to_class = {\n",
        "    idx: class_\n",
        "    for class_, idx in model_chroma.class_to_idx.items()\n",
        "}\n",
        "\n",
        "list(model_chroma.idx_to_class.items())[:4]\n",
        "\n",
        "criterion_chroma = nn.NLLLoss()\n",
        "optimizer_chroma = optim.Adam(model_chroma.parameters())\n",
        "# optimizer_chroma = optim.Adam(model_chroma.parameters(), lr=1e0)\n",
        "\n",
        "for p in optimizer_chroma.param_groups[0]['params']:\n",
        "    if p.requires_grad:\n",
        "        print(p.shape)\n",
        "\n",
        "# mfcc\n",
        "model_mfcc.class_to_idx = data['train_mfcc'].class_to_idx\n",
        "model_mfcc.idx_to_class = {\n",
        "    idx: class_\n",
        "    for class_, idx in model_mfcc.class_to_idx.items()\n",
        "}\n",
        "\n",
        "list(model_mfcc.idx_to_class.items())[:4]\n",
        "\n",
        "criterion_mfcc = nn.NLLLoss()\n",
        "optimizer_mfcc = optim.Adam(model_mfcc.parameters())\n",
        "# optimizer_mfcc = optim.Adam(model_mfcc.parameters(), lr=1e0)\n",
        "\n",
        "for p in optimizer_mfcc.param_groups[0]['params']:\n",
        "    if p.requires_grad:\n",
        "        print(p.shape)"
      ],
      "execution_count": 15,
      "outputs": [
        {
          "output_type": "execute_result",
          "data": {
            "text/plain": [
              "[(0, 'artifact'), (1, 'extra'), (2, 'murmur'), (3, 'normal')]"
            ]
          },
          "metadata": {
            "tags": []
          },
          "execution_count": 15
        },
        {
          "output_type": "stream",
          "text": [
            "torch.Size([256, 2048])\n",
            "torch.Size([256])\n",
            "torch.Size([4, 256])\n",
            "torch.Size([4])\n"
          ],
          "name": "stdout"
        },
        {
          "output_type": "execute_result",
          "data": {
            "text/plain": [
              "[(0, 'artifact'), (1, 'extra'), (2, 'murmur'), (3, 'normal')]"
            ]
          },
          "metadata": {
            "tags": []
          },
          "execution_count": 15
        },
        {
          "output_type": "stream",
          "text": [
            "torch.Size([256, 2048])\n",
            "torch.Size([256])\n",
            "torch.Size([4, 256])\n",
            "torch.Size([4])\n"
          ],
          "name": "stdout"
        },
        {
          "output_type": "execute_result",
          "data": {
            "text/plain": [
              "[(0, 'artifact'), (1, 'extra'), (2, 'murmur'), (3, 'normal')]"
            ]
          },
          "metadata": {
            "tags": []
          },
          "execution_count": 15
        },
        {
          "output_type": "stream",
          "text": [
            "torch.Size([256, 2048])\n",
            "torch.Size([256])\n",
            "torch.Size([4, 256])\n",
            "torch.Size([4])\n"
          ],
          "name": "stdout"
        }
      ]
    },
    {
      "cell_type": "code",
      "metadata": {
        "id": "Pey1FVrH-oo4"
      },
      "source": [
        "# model train function/methodology\n",
        "def train(model,\n",
        "          criterion,\n",
        "          optimizer,\n",
        "          train_loader,\n",
        "          valid_loader,\n",
        "          save_file_name,\n",
        "          max_epochs_stop=4,\n",
        "          n_epochs=10,\n",
        "          print_every=1):\n",
        "\n",
        "    # intialize early stopping variables\n",
        "    epochs_no_improve = 0\n",
        "    valid_loss_min = np.Inf\n",
        "    valid_max_acc = 0\n",
        "    history = []\n",
        "\n",
        "\n",
        "    # check if pre-trained \n",
        "    try:\n",
        "        print(f'Model has been trained for: {model.epochs} epochs.\\n')\n",
        "    except:\n",
        "        model.epochs = 0\n",
        "        print(f'Starting Training from Scratch.\\n')\n",
        "\n",
        "    # initialize timer to keep sane\n",
        "    overall_start = timer()\n",
        "\n",
        "    # epoch loop\n",
        "    for epoch in range(n_epochs):\n",
        "\n",
        "        # initialize training and validation loss/acc needed for each epoch\n",
        "        train_loss = 0.0\n",
        "        valid_loss = 0.0\n",
        "\n",
        "        train_acc = 0\n",
        "        valid_acc = 0\n",
        "\n",
        "        # set to train\n",
        "        model.train()\n",
        "        start = timer()\n",
        "\n",
        "        # training loop\n",
        "        for ii, (data, target) in enumerate(train_loader):\n",
        "            # tensors to gpu\n",
        "            if train_on_gpu:\n",
        "                data, target = data.cuda(), target.cuda()\n",
        "\n",
        "            # clear initial gradients\n",
        "            optimizer.zero_grad()\n",
        "            # predicted outputs\n",
        "            output = model(data)\n",
        "\n",
        "            # loss and backpropagation of gradients\n",
        "            loss = criterion(output, target)\n",
        "            loss.backward()\n",
        "\n",
        "            # update parameters\n",
        "            optimizer.step()\n",
        "\n",
        "            # tracking training loss\n",
        "            # multiplying average loss by number of examples in batch\n",
        "            train_loss += loss.item() * data.size(0)\n",
        "\n",
        "            # tracking accuracy \n",
        "            # finding max log probability\n",
        "            _, pred = torch.max(output, dim=1)\n",
        "            correct_tensor = pred.eq(target.data.view_as(pred))\n",
        "            accuracy = torch.mean(correct_tensor.type(torch.FloatTensor))\n",
        "            train_acc += accuracy.item() * data.size(0)\n",
        "\n",
        "            # track training progress with prints\n",
        "            print(\n",
        "                f'Epoch: {epoch}\\t{100 * (ii + 1) / len(train_loader):.2f}% complete. {timer() - start:.2f} seconds elapsed in epoch.',\n",
        "                end='\\r')\n",
        "\n",
        "        # validation\n",
        "        else:\n",
        "            model.epochs += 1\n",
        "\n",
        "            with torch.no_grad():\n",
        "                # setting to evaluation mode\n",
        "                model.eval()\n",
        "\n",
        "                # validation loop\n",
        "                for data, target in valid_loader:\n",
        "                    # tensors to gpu\n",
        "                    if train_on_gpu:\n",
        "                        data, target = data.cuda(), target.cuda()\n",
        "\n",
        "                    # forward passing\n",
        "                    output = model(data)\n",
        "\n",
        "                    # calculating validation loss\n",
        "                    loss = criterion(output, target)\n",
        "                    # Multiply average loss times the number of examples in batch\n",
        "                    valid_loss += loss.item() * data.size(0)\n",
        "\n",
        "                    # calculateing validation accuracy\n",
        "                    _, pred = torch.max(output, dim=1)\n",
        "                    correct_tensor = pred.eq(target.data.view_as(pred))\n",
        "                    accuracy = torch.mean(\n",
        "                        correct_tensor.type(torch.FloatTensor))\n",
        "                    valid_acc += accuracy.item() * data.size(0)\n",
        "\n",
        "                # calculating average losses\n",
        "                train_loss = train_loss / len(train_loader.dataset)\n",
        "                valid_loss = valid_loss / len(valid_loader.dataset)\n",
        "\n",
        "                # calculating average accuracy\n",
        "                train_acc = train_acc / len(train_loader.dataset)\n",
        "                valid_acc = valid_acc / len(valid_loader.dataset)\n",
        "\n",
        "                # keep record\n",
        "                history.append([train_loss, valid_loss, train_acc, valid_acc])\n",
        "\n",
        "                # print training and validation results\n",
        "                if (epoch + 1) % print_every == 0:\n",
        "                    print(\n",
        "                        f'\\nEpoch: {epoch} \\tTraining Loss: {train_loss:.4f} \\tValidation Loss: {valid_loss:.4f}'\n",
        "                    )\n",
        "                    print(\n",
        "                        f'\\t\\tTraining Accuracy: {100 * train_acc:.2f}%\\t Validation Accuracy: {100 * valid_acc:.2f}%'\n",
        "                    )\n",
        "\n",
        "                # overwrite save model if validation loss decreases\n",
        "                if valid_loss < valid_loss_min:\n",
        "                    # saving model\n",
        "                    torch.save(model.state_dict(), save_file_name)\n",
        "                    # tracking improvement\n",
        "                    epochs_no_improve = 0\n",
        "                    valid_loss_min = valid_loss\n",
        "                    valid_best_acc = valid_acc\n",
        "                    best_epoch = epoch\n",
        "\n",
        "                # if no improvement add to stopping indicator\n",
        "                else:\n",
        "                    epochs_no_improve += 1\n",
        "                    # trigger early stopping\n",
        "                    if epochs_no_improve >= max_epochs_stop:\n",
        "                        print(\n",
        "                            f'\\nEarly Stopping! Total epochs: {epoch}. Best epoch: {best_epoch} with loss: {valid_loss_min:.2f} and acc: {100 * valid_acc:.2f}%'\n",
        "                        )\n",
        "                        total_time = timer() - overall_start\n",
        "                        print(\n",
        "                            f'{total_time:.2f} total seconds elapsed. {total_time / (epoch+1):.2f} seconds per epoch.'\n",
        "                        )\n",
        "\n",
        "                        # loading the best state dict\n",
        "                        model.load_state_dict(torch.load(save_file_name))\n",
        "                        # attaching the optimizer\n",
        "                        model.optimizer = optimizer\n",
        "\n",
        "                        # cleaning up history\n",
        "                        history = pd.DataFrame(\n",
        "                            history,\n",
        "                            columns=[\n",
        "                                'train_loss', 'valid_loss', 'train_acc',\n",
        "                                'valid_acc'\n",
        "                            ])\n",
        "                        return model, history\n",
        "\n",
        "    # attaching the optimizer\n",
        "    model.optimizer = optimizer\n",
        "    # recording overall time and prining status\n",
        "    total_time = timer() - overall_start\n",
        "    print(\n",
        "        f'\\nBest epoch: {best_epoch} with loss: {valid_loss_min:.2f} and acc: {100 * valid_best_acc:.2f}%'\n",
        "    )\n",
        "    print(\n",
        "        f'{total_time:.2f} total seconds elapsed. {total_time / (epoch+1):.2f} seconds per epoch.'\n",
        "    )\n",
        "    # format history\n",
        "    history = pd.DataFrame(\n",
        "        history,\n",
        "        columns=['train_loss', 'valid_loss', 'train_acc', 'valid_acc'])\n",
        "    return model, history"
      ],
      "execution_count": 16,
      "outputs": []
    },
    {
      "cell_type": "code",
      "metadata": {
        "id": "Fv53ihNh_dVa",
        "outputId": "210776bc-38e7-4127-f46f-8edb62245690",
        "colab": {
          "base_uri": "https://localhost:8080/",
          "height": 918
        }
      },
      "source": [
        "# run spectrogram model\n",
        "model_lib, history_lib = train(model_librosa,\n",
        "    criterion_librosa,\n",
        "    optimizer_librosa,\n",
        "    dataloaders['train_librosa'],\n",
        "    dataloaders['val_librosa'],\n",
        "    save_file_name=save_file_librosa,\n",
        "    max_epochs_stop=4,\n",
        "    n_epochs=20,\n",
        "    print_every=1)"
      ],
      "execution_count": 17,
      "outputs": [
        {
          "output_type": "stream",
          "text": [
            "Starting Training from Scratch.\n",
            "\n",
            "\n",
            "Epoch: 0 \tTraining Loss: 1.2200 \tValidation Loss: 1.0473\n",
            "\t\tTraining Accuracy: 55.34%\t Validation Accuracy: 59.83%\n",
            "\n",
            "Epoch: 1 \tTraining Loss: 1.0014 \tValidation Loss: 0.9072\n",
            "\t\tTraining Accuracy: 61.11%\t Validation Accuracy: 64.96%\n",
            "\n",
            "Epoch: 2 \tTraining Loss: 0.9191 \tValidation Loss: 0.9092\n",
            "\t\tTraining Accuracy: 63.25%\t Validation Accuracy: 64.10%\n",
            "\n",
            "Epoch: 3 \tTraining Loss: 0.8397 \tValidation Loss: 0.8762\n",
            "\t\tTraining Accuracy: 64.96%\t Validation Accuracy: 64.96%\n",
            "\n",
            "Epoch: 4 \tTraining Loss: 0.8465 \tValidation Loss: 0.8673\n",
            "\t\tTraining Accuracy: 65.38%\t Validation Accuracy: 63.25%\n",
            "\n",
            "Epoch: 5 \tTraining Loss: 0.7969 \tValidation Loss: 0.7795\n",
            "\t\tTraining Accuracy: 69.87%\t Validation Accuracy: 68.38%\n",
            "\n",
            "Epoch: 6 \tTraining Loss: 0.7946 \tValidation Loss: 0.8597\n",
            "\t\tTraining Accuracy: 66.45%\t Validation Accuracy: 69.23%\n",
            "\n",
            "Epoch: 7 \tTraining Loss: 0.8039 \tValidation Loss: 0.7688\n",
            "\t\tTraining Accuracy: 66.88%\t Validation Accuracy: 71.79%\n",
            "\n",
            "Epoch: 8 \tTraining Loss: 0.7279 \tValidation Loss: 0.7479\n",
            "\t\tTraining Accuracy: 71.58%\t Validation Accuracy: 71.79%\n",
            "\n",
            "Epoch: 9 \tTraining Loss: 0.6830 \tValidation Loss: 0.7671\n",
            "\t\tTraining Accuracy: 73.50%\t Validation Accuracy: 72.65%\n",
            "\n",
            "Epoch: 10 \tTraining Loss: 0.8191 \tValidation Loss: 0.7995\n",
            "\t\tTraining Accuracy: 68.38%\t Validation Accuracy: 66.67%\n",
            "\n",
            "Epoch: 11 \tTraining Loss: 0.7402 \tValidation Loss: 0.7344\n",
            "\t\tTraining Accuracy: 70.51%\t Validation Accuracy: 75.21%\n",
            "\n",
            "Epoch: 12 \tTraining Loss: 0.6894 \tValidation Loss: 0.7428\n",
            "\t\tTraining Accuracy: 74.79%\t Validation Accuracy: 74.36%\n",
            "\n",
            "Epoch: 13 \tTraining Loss: 0.6939 \tValidation Loss: 1.0202\n",
            "\t\tTraining Accuracy: 72.65%\t Validation Accuracy: 66.67%\n",
            "\n",
            "Epoch: 14 \tTraining Loss: 0.8030 \tValidation Loss: 0.8710\n",
            "\t\tTraining Accuracy: 68.16%\t Validation Accuracy: 63.25%\n",
            "\n",
            "Epoch: 15 \tTraining Loss: 0.7013 \tValidation Loss: 0.7658\n",
            "\t\tTraining Accuracy: 71.79%\t Validation Accuracy: 71.79%\n",
            "\n",
            "Early Stopping! Total epochs: 15. Best epoch: 11 with loss: 0.73 and acc: 71.79%\n",
            "358.51 total seconds elapsed. 22.41 seconds per epoch.\n"
          ],
          "name": "stdout"
        }
      ]
    },
    {
      "cell_type": "code",
      "metadata": {
        "id": "lkxTjpT5RpEz",
        "outputId": "e1d35dbb-18f0-4621-f174-ee690bf42c3e",
        "colab": {
          "base_uri": "https://localhost:8080/",
          "height": 1000
        }
      },
      "source": [
        "# run chroma model\n",
        "model_chrm, history_chrm = train(model_chroma,\n",
        "    criterion_chroma,\n",
        "    optimizer_chroma,\n",
        "    dataloaders['train_chroma'],\n",
        "    dataloaders['val_chroma'],\n",
        "    save_file_name=save_file_chroma,\n",
        "    max_epochs_stop=4,\n",
        "    n_epochs=20,\n",
        "    print_every=1)"
      ],
      "execution_count": 15,
      "outputs": [
        {
          "output_type": "stream",
          "text": [
            "Starting Training from Scratch.\n",
            "\n",
            "\n",
            "Epoch: 0 \tTraining Loss: 1.1405 \tValidation Loss: 1.0898\n",
            "\t\tTraining Accuracy: 57.48%\t Validation Accuracy: 59.83%\n",
            "\n",
            "Epoch: 1 \tTraining Loss: 1.0604 \tValidation Loss: 1.0592\n",
            "\t\tTraining Accuracy: 59.62%\t Validation Accuracy: 59.83%\n",
            "\n",
            "Epoch: 2 \tTraining Loss: 1.0349 \tValidation Loss: 1.0981\n",
            "\t\tTraining Accuracy: 60.90%\t Validation Accuracy: 59.83%\n",
            "\n",
            "Epoch: 3 \tTraining Loss: 1.0263 \tValidation Loss: 1.0241\n",
            "\t\tTraining Accuracy: 59.19%\t Validation Accuracy: 59.83%\n",
            "\n",
            "Epoch: 4 \tTraining Loss: 0.9889 \tValidation Loss: 1.0834\n",
            "\t\tTraining Accuracy: 59.62%\t Validation Accuracy: 59.83%\n",
            "\n",
            "Epoch: 5 \tTraining Loss: 0.9802 \tValidation Loss: 1.0158\n",
            "\t\tTraining Accuracy: 60.68%\t Validation Accuracy: 59.83%\n",
            "\n",
            "Epoch: 6 \tTraining Loss: 0.9924 \tValidation Loss: 0.9888\n",
            "\t\tTraining Accuracy: 59.83%\t Validation Accuracy: 59.83%\n",
            "\n",
            "Epoch: 7 \tTraining Loss: 0.9534 \tValidation Loss: 0.9870\n",
            "\t\tTraining Accuracy: 60.68%\t Validation Accuracy: 59.83%\n",
            "\n",
            "Epoch: 8 \tTraining Loss: 0.9721 \tValidation Loss: 1.0159\n",
            "\t\tTraining Accuracy: 59.83%\t Validation Accuracy: 59.83%\n",
            "\n",
            "Epoch: 9 \tTraining Loss: 0.9426 \tValidation Loss: 0.9645\n",
            "\t\tTraining Accuracy: 59.40%\t Validation Accuracy: 61.54%\n",
            "\n",
            "Epoch: 10 \tTraining Loss: 0.9078 \tValidation Loss: 0.9568\n",
            "\t\tTraining Accuracy: 62.18%\t Validation Accuracy: 63.25%\n",
            "\n",
            "Epoch: 11 \tTraining Loss: 0.8884 \tValidation Loss: 0.9563\n",
            "\t\tTraining Accuracy: 63.89%\t Validation Accuracy: 58.12%\n",
            "\n",
            "Epoch: 12 \tTraining Loss: 0.8678 \tValidation Loss: 0.9321\n",
            "\t\tTraining Accuracy: 64.10%\t Validation Accuracy: 64.96%\n",
            "\n",
            "Epoch: 13 \tTraining Loss: 0.8552 \tValidation Loss: 0.9715\n",
            "\t\tTraining Accuracy: 65.60%\t Validation Accuracy: 63.25%\n",
            "\n",
            "Epoch: 14 \tTraining Loss: 0.8634 \tValidation Loss: 0.9765\n",
            "\t\tTraining Accuracy: 64.96%\t Validation Accuracy: 64.96%\n",
            "\n",
            "Epoch: 15 \tTraining Loss: 0.8635 \tValidation Loss: 0.9592\n",
            "\t\tTraining Accuracy: 65.38%\t Validation Accuracy: 64.10%\n",
            "\n",
            "Epoch: 16 \tTraining Loss: 0.8512 \tValidation Loss: 0.9268\n",
            "\t\tTraining Accuracy: 64.32%\t Validation Accuracy: 64.96%\n",
            "\n",
            "Epoch: 17 \tTraining Loss: 0.7997 \tValidation Loss: 0.9256\n",
            "\t\tTraining Accuracy: 66.45%\t Validation Accuracy: 64.10%\n",
            "\n",
            "Epoch: 18 \tTraining Loss: 0.8320 \tValidation Loss: 0.9683\n",
            "\t\tTraining Accuracy: 65.17%\t Validation Accuracy: 62.39%\n",
            "\n",
            "Epoch: 19 \tTraining Loss: 0.8106 \tValidation Loss: 0.9159\n",
            "\t\tTraining Accuracy: 67.09%\t Validation Accuracy: 64.10%\n",
            "\n",
            "Best epoch: 19 with loss: 0.92 and acc: 64.10%\n",
            "608.07 total seconds elapsed. 30.40 seconds per epoch.\n"
          ],
          "name": "stdout"
        }
      ]
    },
    {
      "cell_type": "code",
      "metadata": {
        "id": "bzYmholPnkw4",
        "outputId": "f51270a3-e480-49e8-8de6-33a62e637c06",
        "colab": {
          "base_uri": "https://localhost:8080/",
          "height": 663
        }
      },
      "source": [
        "# run mfcc model\n",
        "model_mfcc, history_mfcc = train(model_mfcc,\n",
        "    criterion_mfcc,\n",
        "    optimizer_mfcc,\n",
        "    dataloaders['train_mfcc'],\n",
        "    dataloaders['val_mfcc'],\n",
        "    save_file_name=save_file_mfcc,\n",
        "    max_epochs_stop=4,\n",
        "    n_epochs=20,\n",
        "    print_every=1)"
      ],
      "execution_count": 16,
      "outputs": [
        {
          "output_type": "stream",
          "text": [
            "Starting Training from Scratch.\n",
            "\n",
            "\n",
            "Epoch: 0 \tTraining Loss: 1.2882 \tValidation Loss: 1.0411\n",
            "\t\tTraining Accuracy: 56.41%\t Validation Accuracy: 59.83%\n",
            "\n",
            "Epoch: 1 \tTraining Loss: 1.0536 \tValidation Loss: 1.0088\n",
            "\t\tTraining Accuracy: 60.04%\t Validation Accuracy: 59.83%\n",
            "\n",
            "Epoch: 2 \tTraining Loss: 0.9556 \tValidation Loss: 0.9452\n",
            "\t\tTraining Accuracy: 62.61%\t Validation Accuracy: 62.39%\n",
            "\n",
            "Epoch: 3 \tTraining Loss: 0.8854 \tValidation Loss: 0.8814\n",
            "\t\tTraining Accuracy: 66.03%\t Validation Accuracy: 65.81%\n",
            "\n",
            "Epoch: 4 \tTraining Loss: 0.8365 \tValidation Loss: 0.8065\n",
            "\t\tTraining Accuracy: 68.59%\t Validation Accuracy: 70.09%\n",
            "\n",
            "Epoch: 5 \tTraining Loss: 0.7879 \tValidation Loss: 0.8238\n",
            "\t\tTraining Accuracy: 70.94%\t Validation Accuracy: 71.79%\n",
            "\n",
            "Epoch: 6 \tTraining Loss: 0.7716 \tValidation Loss: 0.7504\n",
            "\t\tTraining Accuracy: 69.23%\t Validation Accuracy: 73.50%\n",
            "\n",
            "Epoch: 7 \tTraining Loss: 0.7688 \tValidation Loss: 0.7519\n",
            "\t\tTraining Accuracy: 70.94%\t Validation Accuracy: 75.21%\n",
            "\n",
            "Epoch: 8 \tTraining Loss: 0.8407 \tValidation Loss: 0.7653\n",
            "\t\tTraining Accuracy: 64.32%\t Validation Accuracy: 69.23%\n",
            "\n",
            "Epoch: 9 \tTraining Loss: 0.7143 \tValidation Loss: 0.8276\n",
            "\t\tTraining Accuracy: 73.50%\t Validation Accuracy: 69.23%\n",
            "\n",
            "Epoch: 10 \tTraining Loss: 0.6969 \tValidation Loss: 0.8038\n",
            "\t\tTraining Accuracy: 72.65%\t Validation Accuracy: 70.09%\n",
            "\n",
            "Early Stopping! Total epochs: 10. Best epoch: 6 with loss: 0.75 and acc: 70.09%\n",
            "392.95 total seconds elapsed. 35.72 seconds per epoch.\n"
          ],
          "name": "stdout"
        }
      ]
    },
    {
      "cell_type": "code",
      "metadata": {
        "id": "Hep05ftYc3TA",
        "outputId": "9de974bd-b2a2-4bb2-c348-4e8a1f77a0ec",
        "colab": {
          "base_uri": "https://localhost:8080/",
          "height": 215
        }
      },
      "source": [
        "# save best models (this is all in our google drive)\n",
        "# see all input data and model outputs on google drive\n",
        "# please feel free to explore!\n",
        "# https://drive.google.com/drive/u/0/folders/1qko4KMLebSLOGIJwHLIhiHaRAYQXw8dw\n",
        "torch.save(model_lib, './trained_models/best_model_librosa.pt')\n",
        "torch.save(model_chrm, './trained_models/best_model_chroma.pt')\n",
        "torch.save(model_mfcc, './trained_models/best_model_mfcc.pt')"
      ],
      "execution_count": 18,
      "outputs": [
        {
          "output_type": "error",
          "ename": "NameError",
          "evalue": "ignored",
          "traceback": [
            "\u001b[0;31m---------------------------------------------------------------------------\u001b[0m",
            "\u001b[0;31mNameError\u001b[0m                                 Traceback (most recent call last)",
            "\u001b[0;32m<ipython-input-18-33eb9747e3a9>\u001b[0m in \u001b[0;36m<module>\u001b[0;34m()\u001b[0m\n\u001b[1;32m      4\u001b[0m \u001b[0;31m# https://drive.google.com/drive/u/0/folders/1qko4KMLebSLOGIJwHLIhiHaRAYQXw8dw\u001b[0m\u001b[0;34m\u001b[0m\u001b[0;34m\u001b[0m\u001b[0;34m\u001b[0m\u001b[0m\n\u001b[1;32m      5\u001b[0m \u001b[0mtorch\u001b[0m\u001b[0;34m.\u001b[0m\u001b[0msave\u001b[0m\u001b[0;34m(\u001b[0m\u001b[0mmodel_lib\u001b[0m\u001b[0;34m,\u001b[0m \u001b[0;34m'./trained_models/best_model_librosa.pt'\u001b[0m\u001b[0;34m)\u001b[0m\u001b[0;34m\u001b[0m\u001b[0;34m\u001b[0m\u001b[0m\n\u001b[0;32m----> 6\u001b[0;31m \u001b[0mtorch\u001b[0m\u001b[0;34m.\u001b[0m\u001b[0msave\u001b[0m\u001b[0;34m(\u001b[0m\u001b[0mmodel_chrm\u001b[0m\u001b[0;34m,\u001b[0m \u001b[0;34m'./trained_models/best_model_chroma.pt'\u001b[0m\u001b[0;34m)\u001b[0m\u001b[0;34m\u001b[0m\u001b[0;34m\u001b[0m\u001b[0m\n\u001b[0m\u001b[1;32m      7\u001b[0m \u001b[0mtorch\u001b[0m\u001b[0;34m.\u001b[0m\u001b[0msave\u001b[0m\u001b[0;34m(\u001b[0m\u001b[0mmodel_mfcc\u001b[0m\u001b[0;34m,\u001b[0m \u001b[0;34m'./trained_models/best_model_mfcc.pt'\u001b[0m\u001b[0;34m)\u001b[0m\u001b[0;34m\u001b[0m\u001b[0;34m\u001b[0m\u001b[0m\n",
            "\u001b[0;31mNameError\u001b[0m: name 'model_chrm' is not defined"
          ]
        }
      ]
    },
    {
      "cell_type": "code",
      "metadata": {
        "id": "abcdffq5GeWU",
        "outputId": "75bc7c91-37d8-4146-a720-61e3b5849a08",
        "colab": {
          "base_uri": "https://localhost:8080/",
          "height": 416
        }
      },
      "source": [
        "# plot val/train loss for spectrogram model\n",
        "plt.figure(figsize=(8, 6))\n",
        "for c in ['train_loss', 'valid_loss']:\n",
        "    plt.plot(\n",
        "        history_lib[c], label=c)\n",
        "plt.legend()\n",
        "plt.xlabel('Epoch')\n",
        "plt.ylabel('Average Negative Log Likelihood')\n",
        "plt.title('Training and Validation Losses')\n",
        "plt.show();"
      ],
      "execution_count": 19,
      "outputs": [
        {
          "output_type": "display_data",
          "data": {
            "image/png": "[encoded data removed]",
            "text/plain": [
              "<Figure size 576x432 with 1 Axes>"
            ]
          },
          "metadata": {
            "tags": [],
            "needs_background": "light"
          }
        }
      ]
    },
    {
      "cell_type": "code",
      "metadata": {
        "id": "0a3vqOlYGoFf",
        "outputId": "dec0a6e1-702f-440b-882d-530f7540c6d1",
        "colab": {
          "base_uri": "https://localhost:8080/",
          "height": 416
        }
      },
      "source": [
        "# plot val/train loss for chroma model\n",
        "plt.figure(figsize=(8, 6))\n",
        "for c in ['train_loss', 'valid_loss']:\n",
        "    plt.plot(\n",
        "        history_chrm[c], label=c)\n",
        "plt.legend()\n",
        "plt.xlabel('Epoch')\n",
        "plt.ylabel('Average Negative Log Likelihood')\n",
        "plt.title('Training and Validation Losses')\n",
        "plt.show();"
      ],
      "execution_count": 19,
      "outputs": [
        {
          "output_type": "display_data",
          "data": {
            "image/png": "[encoded data removed]",
            "text/plain": [
              "<Figure size 576x432 with 1 Axes>"
            ]
          },
          "metadata": {
            "tags": [],
            "needs_background": "light"
          }
        }
      ]
    },
    {
      "cell_type": "code",
      "metadata": {
        "id": "XRHOjEUjGhk6",
        "outputId": "06d3f9be-4e27-400b-f33c-b6cc69b66d9b",
        "colab": {
          "base_uri": "https://localhost:8080/",
          "height": 470
        }
      },
      "source": [
        "# # plot val/train loss for mfcc model\n",
        "plt.figure(figsize=(8, 6))\n",
        "for c in ['train_loss', 'valid_loss']:\n",
        "    plt.plot(\n",
        "        history_mfcc[c], label=c)\n",
        "plt.legend()\n",
        "plt.xlabel('Epoch')\n",
        "plt.ylabel('Average Negative Log Likelihood')\n",
        "plt.title('Training and Validation Losses')\n",
        "plt.show()"
      ],
      "execution_count": 20,
      "outputs": [
        {
          "output_type": "execute_result",
          "data": {
            "text/plain": [
              "<Figure size 576x432 with 0 Axes>"
            ]
          },
          "metadata": {
            "tags": []
          },
          "execution_count": 20
        },
        {
          "output_type": "execute_result",
          "data": {
            "text/plain": [
              "[<matplotlib.lines.Line2D at 0x7fec7105d668>]"
            ]
          },
          "metadata": {
            "tags": []
          },
          "execution_count": 20
        },
        {
          "output_type": "execute_result",
          "data": {
            "text/plain": [
              "[<matplotlib.lines.Line2D at 0x7fec7105d780>]"
            ]
          },
          "metadata": {
            "tags": []
          },
          "execution_count": 20
        },
        {
          "output_type": "execute_result",
          "data": {
            "text/plain": [
              "<matplotlib.legend.Legend at 0x7fec710925c0>"
            ]
          },
          "metadata": {
            "tags": []
          },
          "execution_count": 20
        },
        {
          "output_type": "execute_result",
          "data": {
            "text/plain": [
              "Text(0.5, 0, 'Epoch')"
            ]
          },
          "metadata": {
            "tags": []
          },
          "execution_count": 20
        },
        {
          "output_type": "execute_result",
          "data": {
            "text/plain": [
              "Text(0, 0.5, 'Average Negative Log Likelihood')"
            ]
          },
          "metadata": {
            "tags": []
          },
          "execution_count": 20
        },
        {
          "output_type": "execute_result",
          "data": {
            "text/plain": [
              "Text(0.5, 1.0, 'Training and Validation Losses')"
            ]
          },
          "metadata": {
            "tags": []
          },
          "execution_count": 20
        },
        {
          "output_type": "display_data",
          "data": {
            "image/png": "[encoded data removed]",
            "text/plain": [
              "<Figure size 576x432 with 1 Axes>"
            ]
          },
          "metadata": {
            "tags": [],
            "needs_background": "light"
          }
        }
      ]
    },
    {
      "cell_type": "code",
      "metadata": {
        "id": "4KbrlDG_G303"
      },
      "source": [
        "# save state dict in trained models folder also\n",
        "torch.save(model_lib.state_dict(), './trained_models/mini_model_librosa.pt')\n",
        "torch.save(model_chrm.state_dict(), './trained_models/mini_model_chroma.pt')\n",
        "torch.save(model_mfcc.state_dict(), './trained_models/mini_model_mfcc.pt')"
      ],
      "execution_count": 24,
      "outputs": []
    },
    {
      "cell_type": "code",
      "metadata": {
        "id": "ZO6p9b4cMvlO"
      },
      "source": [
        ""
      ],
      "execution_count": 21,
      "outputs": []
    }
  ]
}