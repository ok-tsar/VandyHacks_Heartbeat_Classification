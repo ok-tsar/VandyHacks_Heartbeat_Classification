{
  "nbformat": 4,
  "nbformat_minor": 0,
  "metadata": {
    "colab": {
      "name": "ensemble_test.ipynb",
      "provenance": [],
      "collapsed_sections": []
    },
    "kernelspec": {
      "name": "python3",
      "display_name": "Python 3"
    },
    "accelerator": "GPU"
  },
  "cells": [
    {
      "cell_type": "markdown",
      "metadata": {
        "id": "jqxch_VKSHVg"
      },
      "source": [
        "# Setup"
      ]
    },
    {
      "cell_type": "code",
      "metadata": {
        "id": "W645LP96Osms",
        "outputId": "9e016642-9a7d-45c3-ddc8-55563a993161",
        "colab": {
          "base_uri": "https://localhost:8080/",
          "height": 34
        }
      },
      "source": [
        "from google.colab import drive\n",
        "drive.mount('/content/gdrive')"
      ],
      "execution_count": 1,
      "outputs": [
        {
          "output_type": "stream",
          "text": [
            "Mounted at /content/gdrive\n"
          ],
          "name": "stdout"
        }
      ]
    },
    {
      "cell_type": "code",
      "metadata": {
        "id": "GVjArhMvSIeh",
        "outputId": "d67bc627-de9b-4c18-c324-2111cf27490c",
        "colab": {
          "base_uri": "https://localhost:8080/",
          "height": 34
        }
      },
      "source": [
        "%cd gdrive/'My Drive'/'Vanderbilt - MSDS'/'Second Year'/vandy_hacks/data"
      ],
      "execution_count": 2,
      "outputs": [
        {
          "output_type": "stream",
          "text": [
            "/content/gdrive/My Drive/Vanderbilt - MSDS/Second Year/vandy_hacks/data\n"
          ],
          "name": "stdout"
        }
      ]
    },
    {
      "cell_type": "code",
      "metadata": {
        "id": "HekDfKcUSXqA"
      },
      "source": [
        "from IPython.core.interactiveshell import InteractiveShell\n",
        "InteractiveShell.ast_node_interactivity = \"all\""
      ],
      "execution_count": 3,
      "outputs": []
    },
    {
      "cell_type": "code",
      "metadata": {
        "id": "61b8wyL1Sawh"
      },
      "source": [
        "import os\n",
        "import torch\n",
        "from torchvision import transforms\n",
        "from torchvision import datasets\n",
        "from torch.utils.data import DataLoader, sampler\n",
        "from torchvision import models\n",
        "\n",
        "from pathlib import Path\n",
        "\n",
        "# Data science tools\n",
        "import numpy as np\n",
        "import pandas as pd\n",
        "\n",
        "# Image manipulations\n",
        "from PIL import Image\n",
        "import PIL.Image\n",
        "\n",
        "# Visualizations\n",
        "import matplotlib.pyplot as plt\n",
        "\n",
        "import warnings\n",
        "warnings.filterwarnings('ignore', category=FutureWarning)"
      ],
      "execution_count": 44,
      "outputs": []
    },
    {
      "cell_type": "markdown",
      "metadata": {
        "id": "0pW7glw4St5n"
      },
      "source": [
        "## IMPORT MODELS"
      ]
    },
    {
      "cell_type": "code",
      "metadata": {
        "id": "PIoHTtd3Si6Y"
      },
      "source": [
        "model_spectogram = torch.load('../model/spectogram.pt', \n",
        "                              map_location=torch.device('cpu'))"
      ],
      "execution_count": 68,
      "outputs": []
    },
    {
      "cell_type": "code",
      "metadata": {
        "id": "jpFMM4BhTWJM"
      },
      "source": [
        "model_chromagram = torch.load('../model/chromagram.pt', \n",
        "                              map_location=torch.device('cpu'))"
      ],
      "execution_count": 69,
      "outputs": []
    },
    {
      "cell_type": "code",
      "metadata": {
        "id": "5GqxGW91S-Ds"
      },
      "source": [
        "model_mfcc = torch.load('../model/mfcc.pt', \n",
        "                        map_location=torch.device('cpu'))"
      ],
      "execution_count": 70,
      "outputs": []
    },
    {
      "cell_type": "code",
      "metadata": {
        "id": "Y6GC3p8pV506"
      },
      "source": [
        "def transform_image(img_path):\n",
        "    \n",
        "    img = PIL.Image.open(img_path, mode='r').convert('RGB')\n",
        "    \n",
        "    trans = transforms.Compose([\n",
        "    transforms.CenterCrop(size=224),\n",
        "    transforms.ToTensor(),\n",
        "    transforms.Normalize([0.485, 0.456, 0.406],\n",
        "                         [0.229, 0.224, 0.225])  # Imagenet standards\n",
        "    ])\n",
        "    \n",
        "    return trans(img)"
      ],
      "execution_count": 50,
      "outputs": []
    },
    {
      "cell_type": "markdown",
      "metadata": {
        "id": "PhVeF-nxTe5S"
      },
      "source": [
        "# Get Validation Data"
      ]
    },
    {
      "cell_type": "code",
      "metadata": {
        "id": "OXjY0oa-UMch"
      },
      "source": [
        "file_names = dict.fromkeys(['normal', 'extra', 'artifact', 'murmur'])"
      ],
      "execution_count": 71,
      "outputs": []
    },
    {
      "cell_type": "code",
      "metadata": {
        "id": "jHSiUQdFUCa1"
      },
      "source": [
        "# all have the same file names\n",
        "for i in ['normal', 'extra', 'artifact', 'murmur']:\n",
        "  tmp = os.listdir(f'final_valid/spectogram/{i}')\n",
        "  file_names[i] = tmp"
      ],
      "execution_count": 72,
      "outputs": []
    },
    {
      "cell_type": "code",
      "metadata": {
        "id": "o7ju4vZTU7ci",
        "outputId": "38d090a5-6d94-4ffa-88d4-ad37a7c25d5e",
        "colab": {
          "base_uri": "https://localhost:8080/",
          "height": 87
        }
      },
      "source": [
        "predictions = []\n",
        "real_class = []\n",
        "\n",
        "for key, value in file_names.items():\n",
        "  print(key)\n",
        "  for img in value:\n",
        "    tmp_results = []\n",
        "\n",
        "    # Get Images\n",
        "    img_spect = transform_image(Path('final_valid', 'spectogram', key, img))\n",
        "    img_chroma = transform_image(Path('final_valid', 'chromagram', key, img))\n",
        "    img_mfcc = transform_image(Path('final_valid', 'mfcc', key, img))\n",
        "\n",
        "    # Make Predictions\n",
        "    predict_spect = model_spectogram(img_spect.unsqueeze(0)).detach().numpy()\n",
        "    predict_chroma = model_chromagram(img_chroma.unsqueeze(0)).detach().numpy()\n",
        "    predict_mfcc = model_mfcc(img_mfcc.unsqueeze(0)).detach().numpy()\n",
        "\n",
        "    # print(predict_spect)\n",
        "\n",
        "    # Results\n",
        "    tmp_results = np.array([predict_spect])\n",
        "    tmp_results = np.array([predict_spect, \n",
        "                            predict_chroma,\n",
        "                            predict_mfcc])\n",
        "    \n",
        "    real_class.append(key)\n",
        "    predictions.append(tmp_results.mean(axis=0).argmax())\n"
      ],
      "execution_count": 74,
      "outputs": [
        {
          "output_type": "stream",
          "text": [
            "normal\n",
            "extra\n",
            "artifact\n",
            "murmur\n"
          ],
          "name": "stdout"
        }
      ]
    },
    {
      "cell_type": "code",
      "metadata": {
        "id": "6GpIG4YFZLG2"
      },
      "source": [
        "df_predictions = pd.DataFrame({\n",
        "    'prediction': predictions,\n",
        "    'actual': real_class\n",
        "})"
      ],
      "execution_count": 76,
      "outputs": []
    },
    {
      "cell_type": "code",
      "metadata": {
        "id": "uckc4cGIaRcQ",
        "outputId": "6855c5a7-80fb-43c5-cc90-be9398c542d6",
        "colab": {
          "base_uri": "https://localhost:8080/",
          "height": 87
        }
      },
      "source": [
        "df_predictions['prediction'].value_counts()"
      ],
      "execution_count": 78,
      "outputs": [
        {
          "output_type": "execute_result",
          "data": {
            "text/plain": [
              "3    102\n",
              "2      9\n",
              "0      6\n",
              "Name: prediction, dtype: int64"
            ]
          },
          "metadata": {
            "tags": []
          },
          "execution_count": 78
        }
      ]
    },
    {
      "cell_type": "code",
      "metadata": {
        "id": "j4Z4NVj7aSYo"
      },
      "source": [
        "df_predictions.loc[df_predictions['prediction'] == 3, 'prediction'] = 'normal'\n",
        "df_predictions.loc[df_predictions['prediction'] == 2, 'prediction'] = 'murmur'\n",
        "df_predictions.loc[df_predictions['prediction'] == 0, 'prediction'] = 'artifact'\n",
        "df_predictions.loc[df_predictions['prediction'] == 1, 'prediction'] = 'extra'"
      ],
      "execution_count": 84,
      "outputs": []
    },
    {
      "cell_type": "code",
      "metadata": {
        "id": "VyIPak9PgFId"
      },
      "source": [
        ""
      ],
      "execution_count": 81,
      "outputs": []
    },
    {
      "cell_type": "code",
      "metadata": {
        "id": "s0MZWogugLhH",
        "outputId": "9552b885-abb4-4c5e-8efd-e5bcdc591de1",
        "colab": {
          "base_uri": "https://localhost:8080/",
          "height": 34
        }
      },
      "source": [
        "df_predictions['prediction'][0] == df_predictions['actual'][0]"
      ],
      "execution_count": 86,
      "outputs": [
        {
          "output_type": "execute_result",
          "data": {
            "text/plain": [
              "True"
            ]
          },
          "metadata": {
            "tags": []
          },
          "execution_count": 86
        }
      ]
    },
    {
      "cell_type": "code",
      "metadata": {
        "id": "aVuGYSksgPBm"
      },
      "source": [
        "df_predictions['results'] = (df_predictions['prediction'] == df_predictions['actual'])"
      ],
      "execution_count": 87,
      "outputs": []
    },
    {
      "cell_type": "code",
      "metadata": {
        "id": "C49enEVggk6X",
        "outputId": "b0ff950b-0aae-4b71-e3f7-6b9af0239401",
        "colab": {
          "base_uri": "https://localhost:8080/",
          "height": 34
        }
      },
      "source": [
        "df_predictions['results'].mean()"
      ],
      "execution_count": 89,
      "outputs": [
        {
          "output_type": "execute_result",
          "data": {
            "text/plain": [
              "0.7094017094017094"
            ]
          },
          "metadata": {
            "tags": []
          },
          "execution_count": 89
        }
      ]
    },
    {
      "cell_type": "code",
      "metadata": {
        "id": "ttODX2cGglnx"
      },
      "source": [
        ""
      ],
      "execution_count": null,
      "outputs": []
    }
  ]
}