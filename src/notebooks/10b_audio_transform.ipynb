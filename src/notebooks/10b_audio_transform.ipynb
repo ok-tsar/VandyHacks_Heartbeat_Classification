{
 "cells": [
  {
   "cell_type": "markdown",
   "metadata": {
    "id": "RAQmHkOKaayV"
   },
   "source": [
    "# Setup"
   ]
  },
  {
   "cell_type": "code",
   "execution_count": 2,
   "metadata": {
    "id": "dT2DqX9VaZb3"
   },
   "outputs": [],
   "source": [
    "import librosa\n",
    "import itertools \n",
    "import IPython.display as ipd\n",
    "import matplotlib.pyplot as plt\n",
    "import librosa.display\n",
    "import sklearn\n",
    "import torch\n",
    "import torchaudio\n",
    "import numpy as np\n",
    "import os\n",
    "import sys\n",
    "from pathlib import Path\n",
    "from matplotlib.backends.backend_agg import FigureCanvasAgg as FigureCanvas"
   ]
  },
  {
   "cell_type": "markdown",
   "metadata": {
    "id": "hq1l7EADakbQ"
   },
   "source": [
    "# Defined Variables & Helper Functions"
   ]
  },
  {
   "cell_type": "code",
   "execution_count": 3,
   "metadata": {},
   "outputs": [
    {
     "name": "stdout",
     "output_type": "stream",
     "text": [
      "/Users/teddyweaver/Documents/MSDS/2020_Fall/vandy_hacks/VandyHacks_Heartbeat_Classification/modeling\n"
     ]
    }
   ],
   "source": [
    "!pwd"
   ]
  },
  {
   "cell_type": "code",
   "execution_count": 14,
   "metadata": {},
   "outputs": [],
   "source": [
    "DIR_ROOT = Path().resolve().parent\n",
    "DIR_VHACK = Path().resolve().parents[1]"
   ]
  },
  {
   "cell_type": "code",
   "execution_count": 15,
   "metadata": {
    "id": "OcEDu6jPaZxX"
   },
   "outputs": [],
   "source": [
    "DIR_TRAIN = Path(DIR_VHACK, 'data', 'train')\n",
    "DIR_VALID = Path(DIR_VHACK, 'data', 'valid')\n",
    "labels = ['murmur', 'extra', 'normal', 'artifact']"
   ]
  },
  {
   "cell_type": "code",
   "execution_count": 43,
   "metadata": {},
   "outputs": [],
   "source": [
    "def spec_to_image(spec, eps=1e-6):\n",
    "    mean = spec.mean()\n",
    "    std = spec.std()\n",
    "    spec_norm = (spec - mean) / (std + eps)\n",
    "    spec_min, spec_max = spec_norm.min(), spec_norm.max()\n",
    "    spec_scaled = 255 * (spec_norm - spec_min) / (spec_max - spec_min)\n",
    "    spec_scaled = spec_scaled.astype(np.uint8)\n",
    "    return spec_scaled"
   ]
  },
  {
   "cell_type": "code",
   "execution_count": 16,
   "metadata": {
    "id": "S0BxT8NrasIb"
   },
   "outputs": [],
   "source": [
    "def pad_along_axis(array: np.ndarray, target_length: int, axis: int = 0):\n",
    "  '''\n",
    "  Pad numpy array with some value (default = 0)\n",
    "\n",
    "  link: https://stackoverflow.com/questions/19349410/how-to-pad-with-zeros-a-tensor-along-some-axis-python\n",
    "  '''\n",
    "  pad_size = target_length - array.shape[axis]\n",
    "\n",
    "  if pad_size <= 0:\n",
    "      return array\n",
    "\n",
    "  npad = [(0, 0)] * array.ndim\n",
    "  npad[axis] = (0, pad_size)\n",
    "\n",
    "  return np.pad(array, pad_width=npad, mode='constant', constant_values=0)"
   ]
  },
  {
   "cell_type": "markdown",
   "metadata": {
    "id": "tC54fJ86ceOW"
   },
   "source": [
    "# Doing Stuff"
   ]
  },
  {
   "cell_type": "code",
   "execution_count": 18,
   "metadata": {
    "id": "8kZmOQA5fg7u"
   },
   "outputs": [],
   "source": [
    "def import_wav(filepath):\n",
    "  '''\n",
    "  Takes a filepath and returns the \n",
    "  sample rate (sr) and amplitude (x)\n",
    "  '''\n",
    "  try:\n",
    "    x, sr = librosa.load(filepath)\n",
    "    x, _ = librosa.effects.trim(x)\n",
    "\n",
    "  except FileNotFoundError:\n",
    "    raise FileNotFoundError(f'could not file a file at {filepath}')\n",
    "  \n",
    "  return x, sr"
   ]
  },
  {
   "cell_type": "code",
   "execution_count": 19,
   "metadata": {
    "id": "kf1qFPm4g2G1"
   },
   "outputs": [],
   "source": [
    "def stft_transform(amp_array, n_fft = 2048, hop_length = 100):\n",
    "  # STFT Transform\n",
    "  x_freq = np.abs(librosa.stft(amp_array, \n",
    "                               n_fft = n_fft,  \n",
    "                               hop_length = hop_length))\n",
    "  \n",
    "  return x_freq\n"
   ]
  },
  {
   "cell_type": "code",
   "execution_count": 20,
   "metadata": {
    "id": "WPNUe7DN1-Qz"
   },
   "outputs": [],
   "source": [
    "def amp_to_db(freq_array, sr, ref = np.max):\n",
    "  return librosa.amplitude_to_db(freq_array, ref=ref)"
   ]
  },
  {
   "cell_type": "code",
   "execution_count": 21,
   "metadata": {
    "id": "MeBnSBM55mdO"
   },
   "outputs": [],
   "source": [
    "def mel_spectogram(amp_array, sr, n_fft = 512, n_mels = 128):\n",
    "  mel = librosa.filters.mel(sr=sr, n_fft=n_fft, n_mels=n_mels)\n",
    "\n",
    "  mss = librosa.feature.melspectrogram(amp_array, sr=sr, n_fft=n_fft, hop_length=hop_length, n_mels=n_mels)\n",
    "  mss_scaled = librosa.power_to_db(mss, ref=np.max) # log scales power\n",
    "\n",
    "  return mss_scaled"
   ]
  },
  {
   "cell_type": "code",
   "execution_count": 22,
   "metadata": {
    "id": "afvWloNK8npQ"
   },
   "outputs": [],
   "source": [
    "def mfcc_spectogram(amp_array, sr, n_mfcc=20):\n",
    "  return librosa.feature.mfcc(y=amp_array, sr=sr, n_mfcc=n_mfcc)"
   ]
  },
  {
   "cell_type": "code",
   "execution_count": 23,
   "metadata": {
    "id": "rFbSe3a18a_R"
   },
   "outputs": [],
   "source": [
    "def chromagram(amp_array, sr, n_fft = 512, hop_length = 100):\n",
    "  return librosa.feature.chroma_stft(amp_array, sr, n_fft = n_fft, hop_length=hop_length)"
   ]
  },
  {
   "cell_type": "code",
   "execution_count": 40,
   "metadata": {
    "id": "XR1Izx-o-5eZ"
   },
   "outputs": [],
   "source": [
    "def plot_graph(audio_array, viz_type, out_file, sr = 22050, hop_length = 100):\n",
    "\n",
    "  fig = plt.Figure(figsize=(15,10))\n",
    "  canvas = FigureCanvas(fig)\n",
    "  ax = fig.add_subplot(111)\n",
    "  \n",
    "  if viz_type == 'chromagram':\n",
    "    librosa.display.specshow(audio_array, ax=ax)\n",
    "\n",
    "  if viz_type == 'spectogram':\n",
    "    librosa.display.specshow(audio_array, sr=sr, y_axis='log', hop_length=hop_length, ax=ax);\n",
    "  \n",
    "  if viz_type == 'mfcc':\n",
    "    librosa.display.specshow(audio_array, sr=sr, ax=ax, cmap='coolwarm')  \n",
    "  \n",
    "  if out_file is not None:\n",
    "    ax.axes.xaxis.set_visible(False)\n",
    "    ax.axes.yaxis.set_visible(False)\n",
    "    fig.savefig(out_file, transparent=True, dpi = 200)\n",
    "  \n",
    "  return"
   ]
  },
  {
   "cell_type": "markdown",
   "metadata": {
    "id": "VQquH-hoWAtq"
   },
   "source": [
    "# Let's Make Some Images!!"
   ]
  },
  {
   "cell_type": "code",
   "execution_count": 25,
   "metadata": {
    "id": "i8ekDNumWATS"
   },
   "outputs": [],
   "source": [
    "image_types = ['mfcc', 'spectogram', 'chromagram']\n",
    "outer_folders = ['train', 'valid']\n",
    "heartbeats = ['murmur', 'normal', 'extra', 'artifact']"
   ]
  },
  {
   "cell_type": "code",
   "execution_count": 26,
   "metadata": {
    "id": "0wNucGHSYdcg"
   },
   "outputs": [],
   "source": [
    "folder_combinations = list(itertools.product(*[image_types, outer_folders, heartbeats])) "
   ]
  },
  {
   "cell_type": "code",
   "execution_count": 27,
   "metadata": {
    "id": "4cKkbsIhYniR"
   },
   "outputs": [],
   "source": [
    "# Create all folders to store images\n",
    "for i in folder_combinations:\n",
    "  os.makedirs(Path(DIR_VHACK, 'data', i[0], i[1], i[2]), exist_ok=True)"
   ]
  },
  {
   "cell_type": "code",
   "execution_count": 28,
   "metadata": {
    "id": "f5n1NQrcXiIE"
   },
   "outputs": [],
   "source": [
    "raw_image_folders = list(itertools.product(*[outer_folders, heartbeats]))"
   ]
  },
  {
   "cell_type": "code",
   "execution_count": 32,
   "metadata": {
    "id": "0B2vbovXZyEH"
   },
   "outputs": [],
   "source": [
    "sr_import = []\n",
    "out_path = []\n",
    "db_array = []\n",
    "stft_array = []\n",
    "chroma_array = []\n",
    "mfcc_array = []\n",
    "\n",
    "for i in raw_image_folders:\n",
    "\n",
    "  # Get All Files\n",
    "  file_path = Path(DIR_VHACK,'data', i[0], i[1])\n",
    "  file_list = os.listdir(file_path)\n",
    "\n",
    "  for wav in file_list:\n",
    "\n",
    "    x, sr = import_wav(Path(file_path, wav))\n",
    "    \n",
    "    # Store them!\n",
    "    sr_import.append(sr)\n",
    "    out_path.append(Path(i[0], i[1]))\n",
    "\n",
    "    # Calculate decibels\n",
    "    dbs = amp_to_db(x, sr)\n",
    "    db_array.append(dbs)\n",
    "\n",
    "    stft_array.append(amp_to_db(stft_transform(x), sr))\n",
    "    chroma_array.append(chromagram(x, sr))\n",
    "    mfcc_array.append(mfcc_spectogram(x, sr))"
   ]
  },
  {
   "cell_type": "code",
   "execution_count": 35,
   "metadata": {
    "id": "jHtyxUnQaeH3"
   },
   "outputs": [],
   "source": [
    "# Find max length to make the audio signal cover the same amount of time\n",
    "max_spect = 0\n",
    "max_chroma = 0\n",
    "\n",
    "for i in stft_array:\n",
    "  t = i.shape[1]\n",
    "  if t > max_spect:\n",
    "    max_spect = t\n",
    "\n",
    "for i in chroma_array:\n",
    "  t = i.shape[1]\n",
    "  if t > max_chroma:\n",
    "    max_chroma = t"
   ]
  },
  {
   "cell_type": "code",
   "execution_count": 54,
   "metadata": {
    "id": "o2dOC2XEnE85"
   },
   "outputs": [],
   "source": [
    "# PAD ALL IMAGES SO THEY ARE THE SAME LENGTH!\n",
    "spect_padded = []\n",
    "mfcc_padded = []\n",
    "chroma_padded = []\n",
    "\n",
    "for i in range(len(stft_array)):\n",
    "  spect_padded.append(pad_along_axis(stft_array[i], max_spect, axis = 1))\n",
    "    mfcc_padded.append(pad_along_axis(spec_to_image(mfcc_array[i]), max_spect, axis = 1))\n",
    "    \n",
    "for i in chroma_array:\n",
    "  chroma_padded.append(pad_along_axis(i, max_spect, axis = 1))"
   ]
  },
  {
   "cell_type": "code",
   "execution_count": null,
   "metadata": {
    "id": "xgRlrjdv09bv"
   },
   "outputs": [],
   "source": [
    "for i in range(len(mfcc_padded)):\n",
    "  # Spectograms\n",
    "  plot_graph(spect_padded[i], viz_type = 'spectogram', sr = sr_import[i],\n",
    "            out_file = Path(DIR_VHACK, 'data', 'spectogram', out_path[i],f'{i}.png'))\n",
    "\n",
    "  # Chromagram\n",
    "  plot_graph(chroma_padded[i], viz_type = 'chromagram', sr = sr_import[i],\n",
    "            out_file = Path(DIR_VHACK, 'data', 'chromagram', out_path[i],f'{i}.png'))\n",
    "\n",
    "  # MFCC\n",
    "  plot_graph(mfcc_padded[i], viz_type = 'mfcc', sr = sr_import[i],\n",
    "            out_file = Path(DIR_VHACK, 'data', 'mfcc', out_path[i],f'{i}.png'))\n"
   ]
  }
 ],
 "metadata": {
  "colab": {
   "collapsed_sections": [],
   "machine_shape": "hm",
   "name": "data_transform_teddy.ipynb",
   "provenance": []
  },
  "kernelspec": {
   "display_name": "Python 3",
   "language": "python",
   "name": "python3"
  },
  "language_info": {
   "codemirror_mode": {
    "name": "ipython",
    "version": 3
   },
   "file_extension": ".py",
   "mimetype": "text/x-python",
   "name": "python",
   "nbconvert_exporter": "python",
   "pygments_lexer": "ipython3",
   "version": "3.7.3"
  }
 },
 "nbformat": 4,
 "nbformat_minor": 4
}
